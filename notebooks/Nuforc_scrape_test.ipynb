{
  "nbformat": 4,
  "nbformat_minor": 0,
  "metadata": {
    "colab": {
      "name": "Nuforc_scrape_test.ipynb",
      "provenance": [],
      "machine_shape": "hm"
    },
    "kernelspec": {
      "name": "python3",
      "display_name": "Python 3"
    },
    "accelerator": "GPU"
  },
  "cells": [
    {
      "cell_type": "code",
      "metadata": {
        "id": "NXxiCHr1rcQV"
      },
      "source": [
        "import pandas as pd\n",
        "import numpy as np\n",
        "import datetime\n",
        "import seaborn as sns\n",
        "import matplotlib.pyplot as plt\n",
        "import math"
      ],
      "execution_count": null,
      "outputs": []
    },
    {
      "cell_type": "code",
      "metadata": {
        "id": "yomBt2W3G2Oi"
      },
      "source": [
        "pd.set_option('display.max_rows', None)"
      ],
      "execution_count": null,
      "outputs": []
    },
    {
      "cell_type": "code",
      "metadata": {
        "id": "s5fOTUR-5vXM"
      },
      "source": [
        "columns = ['text', 'stats', 'date_time', 'report_link', 'city', 'state', 'shape', \n",
        "           'duration', 'summary', 'posted']\n",
        "\n",
        "df=pd.read_csv('ufo_update.csv')"
      ],
      "execution_count": null,
      "outputs": []
    },
    {
      "cell_type": "code",
      "metadata": {
        "id": "w6tADlEvuMIy",
        "colab": {
          "base_uri": "https://localhost:8080/",
          "height": 289
        },
        "outputId": "da686020-1fc0-48c0-82bc-73bf02729c4b"
      },
      "source": [
        "df.head()"
      ],
      "execution_count": null,
      "outputs": [
        {
          "output_type": "execute_result",
          "data": {
            "text/html": [
              "<div>\n",
              "<style scoped>\n",
              "    .dataframe tbody tr th:only-of-type {\n",
              "        vertical-align: middle;\n",
              "    }\n",
              "\n",
              "    .dataframe tbody tr th {\n",
              "        vertical-align: top;\n",
              "    }\n",
              "\n",
              "    .dataframe thead th {\n",
              "        text-align: right;\n",
              "    }\n",
              "</style>\n",
              "<table border=\"1\" class=\"dataframe\">\n",
              "  <thead>\n",
              "    <tr style=\"text-align: right;\">\n",
              "      <th></th>\n",
              "      <th>text</th>\n",
              "      <th>stats</th>\n",
              "      <th>date_time</th>\n",
              "      <th>report_link</th>\n",
              "      <th>city</th>\n",
              "      <th>state</th>\n",
              "      <th>shape</th>\n",
              "      <th>duration</th>\n",
              "      <th>summary</th>\n",
              "      <th>posted</th>\n",
              "    </tr>\n",
              "  </thead>\n",
              "  <tbody>\n",
              "    <tr>\n",
              "      <th>0</th>\n",
              "      <td>The background is a blue sky.  The shape of th...</td>\n",
              "      <td>Occurred : 8/5/2020 10:15  (Entered as : 08/05...</td>\n",
              "      <td>8/5/20 10:15</td>\n",
              "      <td>http://www.nuforc.org/webreports/158/S158217.html</td>\n",
              "      <td>Ty Ty</td>\n",
              "      <td>GA</td>\n",
              "      <td>Unknown</td>\n",
              "      <td>5 minutes</td>\n",
              "      <td>The background is a blue sky. The shape of the...</td>\n",
              "      <td>8/6/20</td>\n",
              "    </tr>\n",
              "    <tr>\n",
              "      <th>1</th>\n",
              "      <td>Black polygonal craft with lights wobbling thr...</td>\n",
              "      <td>Occurred : 8/5/2020 18:50  (Entered as : 08/05...</td>\n",
              "      <td>8/5/20 18:50</td>\n",
              "      <td>http://www.nuforc.org/webreports/158/S158226.html</td>\n",
              "      <td>New Braunfels</td>\n",
              "      <td>TX</td>\n",
              "      <td>Chevron</td>\n",
              "      <td>2-3 minutes</td>\n",
              "      <td>Black polygonal craft with lights wobbling thr...</td>\n",
              "      <td>8/6/20</td>\n",
              "    </tr>\n",
              "    <tr>\n",
              "      <th>2</th>\n",
              "      <td>I observed a white ball of light flying from t...</td>\n",
              "      <td>Occurred : 8/4/2020 20:30  (Entered as : 08/04...</td>\n",
              "      <td>8/4/20 20:30</td>\n",
              "      <td>http://www.nuforc.org/webreports/158/S158228.html</td>\n",
              "      <td>Mesa</td>\n",
              "      <td>AZ</td>\n",
              "      <td>Circle</td>\n",
              "      <td>2 minutes</td>\n",
              "      <td>I observed a white ball of light flying from t...</td>\n",
              "      <td>8/6/20</td>\n",
              "    </tr>\n",
              "    <tr>\n",
              "      <th>3</th>\n",
              "      <td>High altitude fast moving delta shaped flames ...</td>\n",
              "      <td>Occurred : 8/4/2020 22:00  (Entered as : 08/04...</td>\n",
              "      <td>8/4/20 22:00</td>\n",
              "      <td>http://www.nuforc.org/webreports/158/S158221.html</td>\n",
              "      <td>Miami Beach</td>\n",
              "      <td>FL</td>\n",
              "      <td>Fireball</td>\n",
              "      <td>1 minute</td>\n",
              "      <td>High altitude fast moving delta shaped flames....</td>\n",
              "      <td>8/6/20</td>\n",
              "    </tr>\n",
              "    <tr>\n",
              "      <th>4</th>\n",
              "      <td>Three unmistakable lights moving at a speed th...</td>\n",
              "      <td>Occurred : 8/5/2020 04:33  (Entered as : 08/05...</td>\n",
              "      <td>8/5/20 04:33</td>\n",
              "      <td>http://www.nuforc.org/webreports/158/S158220.html</td>\n",
              "      <td>Pheonix</td>\n",
              "      <td>AZ</td>\n",
              "      <td>Triangle</td>\n",
              "      <td>3 seconds</td>\n",
              "      <td>Three unmistakable lights moving at a speed th...</td>\n",
              "      <td>8/6/20</td>\n",
              "    </tr>\n",
              "  </tbody>\n",
              "</table>\n",
              "</div>"
            ],
            "text/plain": [
              "                                                text  ...  posted\n",
              "0  The background is a blue sky.  The shape of th...  ...  8/6/20\n",
              "1  Black polygonal craft with lights wobbling thr...  ...  8/6/20\n",
              "2  I observed a white ball of light flying from t...  ...  8/6/20\n",
              "3  High altitude fast moving delta shaped flames ...  ...  8/6/20\n",
              "4  Three unmistakable lights moving at a speed th...  ...  8/6/20\n",
              "\n",
              "[5 rows x 10 columns]"
            ]
          },
          "metadata": {
            "tags": []
          },
          "execution_count": 8
        }
      ]
    },
    {
      "cell_type": "code",
      "metadata": {
        "id": "XODTFz-I0YKl",
        "colab": {
          "base_uri": "https://localhost:8080/",
          "height": 323
        },
        "outputId": "8435200a-ece0-4be1-d0c6-94ee101459b4"
      },
      "source": [
        "df.tail()"
      ],
      "execution_count": null,
      "outputs": [
        {
          "output_type": "execute_result",
          "data": {
            "text/html": [
              "<div>\n",
              "<style scoped>\n",
              "    .dataframe tbody tr th:only-of-type {\n",
              "        vertical-align: middle;\n",
              "    }\n",
              "\n",
              "    .dataframe tbody tr th {\n",
              "        vertical-align: top;\n",
              "    }\n",
              "\n",
              "    .dataframe thead th {\n",
              "        text-align: right;\n",
              "    }\n",
              "</style>\n",
              "<table border=\"1\" class=\"dataframe\">\n",
              "  <thead>\n",
              "    <tr style=\"text-align: right;\">\n",
              "      <th></th>\n",
              "      <th>text</th>\n",
              "      <th>stats</th>\n",
              "      <th>date_time</th>\n",
              "      <th>report_link</th>\n",
              "      <th>city</th>\n",
              "      <th>state</th>\n",
              "      <th>shape</th>\n",
              "      <th>duration</th>\n",
              "      <th>summary</th>\n",
              "      <th>posted</th>\n",
              "    </tr>\n",
              "  </thead>\n",
              "  <tbody>\n",
              "    <tr>\n",
              "      <th>93812</th>\n",
              "      <td>North Redding California  We saw a bright flas...</td>\n",
              "      <td>Occurred : 7/12/2019 09:20  (Entered as : 07/1...</td>\n",
              "      <td>7/12/19 09:20</td>\n",
              "      <td>http://www.nuforc.org/webreports/147/S147518.html</td>\n",
              "      <td>Redding</td>\n",
              "      <td>CA</td>\n",
              "      <td>Cylinder</td>\n",
              "      <td>5 minutes</td>\n",
              "      <td>North Redding, CA.  We saw a bright flashing w...</td>\n",
              "      <td>7/12/19</td>\n",
              "    </tr>\n",
              "    <tr>\n",
              "      <th>93813</th>\n",
              "      <td>Translucent ballon-like moving slowly Son noti...</td>\n",
              "      <td>Occurred : 6/19/2019 20:30  (Entered as : 6-19...</td>\n",
              "      <td>6/19/19 20:30</td>\n",
              "      <td>http://www.nuforc.org/webreports/146/S146940.html</td>\n",
              "      <td>Carlinville</td>\n",
              "      <td>IL</td>\n",
              "      <td>Sphere</td>\n",
              "      <td>30 minutes</td>\n",
              "      <td>Translucent ballon-like moving slowly</td>\n",
              "      <td>6/20/19</td>\n",
              "    </tr>\n",
              "    <tr>\n",
              "      <th>93814</th>\n",
              "      <td>15 STRANGE OVAL LIGHTS ABOVE THE LOW CLOUDS SO...</td>\n",
              "      <td>Occurred : 6/19/2019 22:20  (Entered as : 6-19...</td>\n",
              "      <td>6/19/19 22:20</td>\n",
              "      <td>http://www.nuforc.org/webreports/146/S146934.html</td>\n",
              "      <td>Orlando</td>\n",
              "      <td>FL</td>\n",
              "      <td>Oval</td>\n",
              "      <td>12 minutes</td>\n",
              "      <td>15 STRANGE OVAL LIGHTS ABOVE THE LOW CLOUDS SO...</td>\n",
              "      <td>6/20/19</td>\n",
              "    </tr>\n",
              "    <tr>\n",
              "      <th>93815</th>\n",
              "      <td>Multiple star-like objects triangle formation ...</td>\n",
              "      <td>Occurred : 6/19/2019 23:00  (Entered as : 06/1...</td>\n",
              "      <td>6/19/19 23:00</td>\n",
              "      <td>http://www.nuforc.org/webreports/146/S146942.html</td>\n",
              "      <td>Smithville</td>\n",
              "      <td>MO</td>\n",
              "      <td>Light</td>\n",
              "      <td>&gt;1 hour</td>\n",
              "      <td>Multiple star-like objects triangle formation ...</td>\n",
              "      <td>6/20/19</td>\n",
              "    </tr>\n",
              "    <tr>\n",
              "      <th>93816</th>\n",
              "      <td>Translucent ballon-like moving slowly Son noti...</td>\n",
              "      <td>Occurred : 6/19/2019 20:30  (Entered as : 6-19...</td>\n",
              "      <td>6/19/19 20:30</td>\n",
              "      <td>http://www.nuforc.org/webreports/146/S146935.html</td>\n",
              "      <td>Carlinville</td>\n",
              "      <td>IL</td>\n",
              "      <td>Sphere</td>\n",
              "      <td>30 minutes</td>\n",
              "      <td>Translucent ballon-like moving slowly.  ((anon...</td>\n",
              "      <td>6/20/19</td>\n",
              "    </tr>\n",
              "  </tbody>\n",
              "</table>\n",
              "</div>"
            ],
            "text/plain": [
              "                                                    text  ...   posted\n",
              "93812  North Redding California  We saw a bright flas...  ...  7/12/19\n",
              "93813  Translucent ballon-like moving slowly Son noti...  ...  6/20/19\n",
              "93814  15 STRANGE OVAL LIGHTS ABOVE THE LOW CLOUDS SO...  ...  6/20/19\n",
              "93815  Multiple star-like objects triangle formation ...  ...  6/20/19\n",
              "93816  Translucent ballon-like moving slowly Son noti...  ...  6/20/19\n",
              "\n",
              "[5 rows x 10 columns]"
            ]
          },
          "metadata": {
            "tags": []
          },
          "execution_count": 9
        }
      ]
    },
    {
      "cell_type": "code",
      "metadata": {
        "id": "xO5isN69p-IC"
      },
      "source": [
        "#No current use for posted feature\n",
        "\n",
        "del df['posted']"
      ],
      "execution_count": null,
      "outputs": []
    },
    {
      "cell_type": "code",
      "metadata": {
        "id": "uhpAGS4BbSCP"
      },
      "source": [
        "#Cleaning stats column to get a more accurate, 4 digit year\n",
        "#Can I strip everyting after 14 characters?\n",
        "\n",
        "df['stats'] = df['stats'].str.strip('Occurred : ')\n",
        "start, stop, step = 0, 14, 1\n",
        "df['stats'] = df['stats'].str.slice(start, stop, step)"
      ],
      "execution_count": null,
      "outputs": []
    },
    {
      "cell_type": "code",
      "metadata": {
        "id": "JY344nuMS0KP"
      },
      "source": [
        "#convert 24:00 to 0:00, convert to datetime\n",
        "\n",
        "df['stats'] = df['stats'].str.replace('24:00', '0:00') "
      ],
      "execution_count": null,
      "outputs": []
    },
    {
      "cell_type": "code",
      "metadata": {
        "id": "QouGjE9JYMHO"
      },
      "source": [
        "#create date_time feature\n",
        "\n",
        "df['date_time'] = pd.to_datetime(df['stats'], infer_datetime_format=True, errors='coerce')"
      ],
      "execution_count": null,
      "outputs": []
    },
    {
      "cell_type": "code",
      "metadata": {
        "id": "Rm0oi_X5iEqF"
      },
      "source": [
        "#create year and month feature\n",
        "\n",
        "df['year'] = pd.DatetimeIndex(df['date_time']).year\n",
        "df['month'] = pd.DatetimeIndex(df['date_time']).month\n",
        "df['day'] = pd.DatetimeIndex(df['date_time']).day\n",
        "df['weekday'] = pd.DatetimeIndex(df['date_time']).day_name()\n",
        "df['hour'] = pd.DatetimeIndex(df['date_time']).hour"
      ],
      "execution_count": null,
      "outputs": []
    },
    {
      "cell_type": "code",
      "metadata": {
        "id": "pByGNsDqvC5y"
      },
      "source": [
        "#reducing number of coloumns\n",
        "\n",
        "del df['summary']\n",
        "del df['duration']\n",
        "del df['stats']"
      ],
      "execution_count": null,
      "outputs": []
    },
    {
      "cell_type": "code",
      "metadata": {
        "id": "AGnU-1kSur-5",
        "colab": {
          "base_uri": "https://localhost:8080/"
        },
        "outputId": "2d0c0ad9-26fc-4a4c-dce0-6197dd239a0e"
      },
      "source": [
        "df.isna().sum()"
      ],
      "execution_count": null,
      "outputs": [
        {
          "output_type": "execute_result",
          "data": {
            "text/plain": [
              "text              57\n",
              "date_time      17378\n",
              "report_link        0\n",
              "city             256\n",
              "state           5459\n",
              "shape           3171\n",
              "year           17378\n",
              "month          17378\n",
              "day            17378\n",
              "weekday        17378\n",
              "hour           17378\n",
              "dtype: int64"
            ]
          },
          "metadata": {
            "tags": []
          },
          "execution_count": 16
        }
      ]
    },
    {
      "cell_type": "code",
      "metadata": {
        "id": "guFhjAYpvXOD"
      },
      "source": [
        "#drop nans\n",
        "\n",
        "df = df.dropna()"
      ],
      "execution_count": null,
      "outputs": []
    },
    {
      "cell_type": "code",
      "metadata": {
        "id": "eTNmOK5EvcK8",
        "colab": {
          "base_uri": "https://localhost:8080/"
        },
        "outputId": "7c71d32f-2a4f-4a41-ec43-cad3e23c2db9"
      },
      "source": [
        "#check shape, could probably drop less nans but I have a lot of data for\n",
        "#text processing\n",
        "df.shape"
      ],
      "execution_count": null,
      "outputs": [
        {
          "output_type": "execute_result",
          "data": {
            "text/plain": [
              "(69719, 11)"
            ]
          },
          "metadata": {
            "tags": []
          },
          "execution_count": 18
        }
      ]
    },
    {
      "cell_type": "code",
      "metadata": {
        "id": "9xgnOQLUt15W"
      },
      "source": [
        "df['year'] = df['year'].apply(int)"
      ],
      "execution_count": null,
      "outputs": []
    },
    {
      "cell_type": "code",
      "metadata": {
        "id": "XK-j3ef9YkR0"
      },
      "source": [
        "df = df.sort_values(by='year', ignore_index=True)"
      ],
      "execution_count": null,
      "outputs": []
    },
    {
      "cell_type": "code",
      "metadata": {
        "id": "WZ7U1abjX8YW",
        "colab": {
          "base_uri": "https://localhost:8080/",
          "height": 359
        },
        "outputId": "30a558fc-0813-4506-a36b-c9513dd5f559"
      },
      "source": [
        "df.head(10)"
      ],
      "execution_count": null,
      "outputs": [
        {
          "output_type": "execute_result",
          "data": {
            "text/html": [
              "<div>\n",
              "<style scoped>\n",
              "    .dataframe tbody tr th:only-of-type {\n",
              "        vertical-align: middle;\n",
              "    }\n",
              "\n",
              "    .dataframe tbody tr th {\n",
              "        vertical-align: top;\n",
              "    }\n",
              "\n",
              "    .dataframe thead th {\n",
              "        text-align: right;\n",
              "    }\n",
              "</style>\n",
              "<table border=\"1\" class=\"dataframe\">\n",
              "  <thead>\n",
              "    <tr style=\"text-align: right;\">\n",
              "      <th></th>\n",
              "      <th>text</th>\n",
              "      <th>date_time</th>\n",
              "      <th>report_link</th>\n",
              "      <th>city</th>\n",
              "      <th>state</th>\n",
              "      <th>shape</th>\n",
              "      <th>year</th>\n",
              "      <th>month</th>\n",
              "      <th>day</th>\n",
              "      <th>weekday</th>\n",
              "      <th>hour</th>\n",
              "    </tr>\n",
              "  </thead>\n",
              "  <tbody>\n",
              "    <tr>\n",
              "      <th>0</th>\n",
              "      <td>Two white dots at high altitude traveling very...</td>\n",
              "      <td>1721-04-25 21:03:00</td>\n",
              "      <td>http://www.nuforc.org/webreports/133/S133812.html</td>\n",
              "      <td>Dallas</td>\n",
              "      <td>GA</td>\n",
              "      <td>Unknown</td>\n",
              "      <td>1721</td>\n",
              "      <td>4.0</td>\n",
              "      <td>25.0</td>\n",
              "      <td>Friday</td>\n",
              "      <td>21.0</td>\n",
              "    </tr>\n",
              "    <tr>\n",
              "      <th>1</th>\n",
              "      <td>Slow Moving Fireball, stench of burning sulphe...</td>\n",
              "      <td>1790-06-30 21:00:00</td>\n",
              "      <td>http://www.nuforc.org/webreports/057/S57309.html</td>\n",
              "      <td>Carlisle</td>\n",
              "      <td>NY</td>\n",
              "      <td>Fireball</td>\n",
              "      <td>1790</td>\n",
              "      <td>6.0</td>\n",
              "      <td>30.0</td>\n",
              "      <td>Wednesday</td>\n",
              "      <td>21.0</td>\n",
              "    </tr>\n",
              "    <tr>\n",
              "      <th>2</th>\n",
              "      <td>UFO report communicated by Thomas Jefferson Fr...</td>\n",
              "      <td>1800-04-05 20:00:00</td>\n",
              "      <td>http://www.nuforc.org/webreports/079/S79941.html</td>\n",
              "      <td>Baton Rouge</td>\n",
              "      <td>LA</td>\n",
              "      <td>Light</td>\n",
              "      <td>1800</td>\n",
              "      <td>4.0</td>\n",
              "      <td>5.0</td>\n",
              "      <td>Saturday</td>\n",
              "      <td>20.0</td>\n",
              "    </tr>\n",
              "    <tr>\n",
              "      <th>3</th>\n",
              "      <td>1861 airborne cross over lower manhattan attn:...</td>\n",
              "      <td>1861-03-29 00:00:00</td>\n",
              "      <td>http://www.nuforc.org/webreports/095/S95986.html</td>\n",
              "      <td>New York City (Manhattan)</td>\n",
              "      <td>NY</td>\n",
              "      <td>Cross</td>\n",
              "      <td>1861</td>\n",
              "      <td>3.0</td>\n",
              "      <td>29.0</td>\n",
              "      <td>Friday</td>\n",
              "      <td>0.0</td>\n",
              "    </tr>\n",
              "    <tr>\n",
              "      <th>4</th>\n",
              "      <td>This is a UFO report by a respected Confederat...</td>\n",
              "      <td>1864-05-16 08:00:00</td>\n",
              "      <td>http://www.nuforc.org/webreports/132/S132800.html</td>\n",
              "      <td>Cave Spring</td>\n",
              "      <td>GA</td>\n",
              "      <td>Light</td>\n",
              "      <td>1864</td>\n",
              "      <td>5.0</td>\n",
              "      <td>16.0</td>\n",
              "      <td>Monday</td>\n",
              "      <td>8.0</td>\n",
              "    </tr>\n",
              "    <tr>\n",
              "      <th>5</th>\n",
              "      <td>In 1864, prior to airplanes, a white object wa...</td>\n",
              "      <td>1864-05-16 08:00:00</td>\n",
              "      <td>http://www.nuforc.org/webreports/071/S71242.html</td>\n",
              "      <td>Cave Springs</td>\n",
              "      <td>GA</td>\n",
              "      <td>Unknown</td>\n",
              "      <td>1864</td>\n",
              "      <td>5.0</td>\n",
              "      <td>16.0</td>\n",
              "      <td>Monday</td>\n",
              "      <td>8.0</td>\n",
              "    </tr>\n",
              "    <tr>\n",
              "      <th>6</th>\n",
              "      <td>Old photos from 1871 show what appears to be o...</td>\n",
              "      <td>1871-06-30 14:00:00</td>\n",
              "      <td>http://www.nuforc.org/webreports/072/S72648.html</td>\n",
              "      <td>Yellowstone National Park</td>\n",
              "      <td>WY</td>\n",
              "      <td>Egg</td>\n",
              "      <td>1871</td>\n",
              "      <td>6.0</td>\n",
              "      <td>30.0</td>\n",
              "      <td>Friday</td>\n",
              "      <td>14.0</td>\n",
              "    </tr>\n",
              "    <tr>\n",
              "      <th>7</th>\n",
              "      <td>Slow moving cigar shaped airship crashed in Au...</td>\n",
              "      <td>1897-04-17 06:00:00</td>\n",
              "      <td>http://www.nuforc.org/webreports/088/S88780.html</td>\n",
              "      <td>Aurora</td>\n",
              "      <td>TX</td>\n",
              "      <td>Cigar</td>\n",
              "      <td>1897</td>\n",
              "      <td>4.0</td>\n",
              "      <td>17.0</td>\n",
              "      <td>Saturday</td>\n",
              "      <td>6.0</td>\n",
              "    </tr>\n",
              "    <tr>\n",
              "      <th>8</th>\n",
              "      <td>We saw a v shape craft or object that just hov...</td>\n",
              "      <td>1905-07-01 09:00:00</td>\n",
              "      <td>http://www.nuforc.org/webreports/153/S153637.html</td>\n",
              "      <td>Houston</td>\n",
              "      <td>TX</td>\n",
              "      <td>Triangle</td>\n",
              "      <td>1905</td>\n",
              "      <td>7.0</td>\n",
              "      <td>1.0</td>\n",
              "      <td>Saturday</td>\n",
              "      <td>9.0</td>\n",
              "    </tr>\n",
              "    <tr>\n",
              "      <th>9</th>\n",
              "      <td>This ball made no sound, and I saw no power so...</td>\n",
              "      <td>1905-07-02 11:00:00</td>\n",
              "      <td>http://www.nuforc.org/webreports/082/S82465.html</td>\n",
              "      <td>Sun Valley</td>\n",
              "      <td>NV</td>\n",
              "      <td>Other</td>\n",
              "      <td>1905</td>\n",
              "      <td>7.0</td>\n",
              "      <td>2.0</td>\n",
              "      <td>Sunday</td>\n",
              "      <td>11.0</td>\n",
              "    </tr>\n",
              "  </tbody>\n",
              "</table>\n",
              "</div>"
            ],
            "text/plain": [
              "                                                text  ...  hour\n",
              "0  Two white dots at high altitude traveling very...  ...  21.0\n",
              "1  Slow Moving Fireball, stench of burning sulphe...  ...  21.0\n",
              "2  UFO report communicated by Thomas Jefferson Fr...  ...  20.0\n",
              "3  1861 airborne cross over lower manhattan attn:...  ...   0.0\n",
              "4  This is a UFO report by a respected Confederat...  ...   8.0\n",
              "5  In 1864, prior to airplanes, a white object wa...  ...   8.0\n",
              "6  Old photos from 1871 show what appears to be o...  ...  14.0\n",
              "7  Slow moving cigar shaped airship crashed in Au...  ...   6.0\n",
              "8  We saw a v shape craft or object that just hov...  ...   9.0\n",
              "9  This ball made no sound, and I saw no power so...  ...  11.0\n",
              "\n",
              "[10 rows x 11 columns]"
            ]
          },
          "metadata": {
            "tags": []
          },
          "execution_count": 21
        }
      ]
    },
    {
      "cell_type": "code",
      "metadata": {
        "id": "cuazGywFVibJ",
        "colab": {
          "base_uri": "https://localhost:8080/"
        },
        "outputId": "f2b7a2fe-cb7c-4d69-a5a7-c867f7a604be"
      },
      "source": [
        "df.isna().sum()"
      ],
      "execution_count": null,
      "outputs": [
        {
          "output_type": "execute_result",
          "data": {
            "text/plain": [
              "text           0\n",
              "date_time      0\n",
              "report_link    0\n",
              "city           0\n",
              "state          0\n",
              "shape          0\n",
              "year           0\n",
              "month          0\n",
              "day            0\n",
              "weekday        0\n",
              "hour           0\n",
              "dtype: int64"
            ]
          },
          "metadata": {
            "tags": []
          },
          "execution_count": 22
        }
      ]
    },
    {
      "cell_type": "code",
      "metadata": {
        "id": "S6h0UzprfpKR",
        "colab": {
          "base_uri": "https://localhost:8080/",
          "height": 204
        },
        "outputId": "2c1a74c3-a93f-4f63-b529-1d12a6e29c7d"
      },
      "source": [
        "df.tail()"
      ],
      "execution_count": null,
      "outputs": [
        {
          "output_type": "execute_result",
          "data": {
            "text/html": [
              "<div>\n",
              "<style scoped>\n",
              "    .dataframe tbody tr th:only-of-type {\n",
              "        vertical-align: middle;\n",
              "    }\n",
              "\n",
              "    .dataframe tbody tr th {\n",
              "        vertical-align: top;\n",
              "    }\n",
              "\n",
              "    .dataframe thead th {\n",
              "        text-align: right;\n",
              "    }\n",
              "</style>\n",
              "<table border=\"1\" class=\"dataframe\">\n",
              "  <thead>\n",
              "    <tr style=\"text-align: right;\">\n",
              "      <th></th>\n",
              "      <th>text</th>\n",
              "      <th>date_time</th>\n",
              "      <th>report_link</th>\n",
              "      <th>city</th>\n",
              "      <th>state</th>\n",
              "      <th>shape</th>\n",
              "      <th>year</th>\n",
              "      <th>month</th>\n",
              "      <th>day</th>\n",
              "      <th>weekday</th>\n",
              "      <th>hour</th>\n",
              "    </tr>\n",
              "  </thead>\n",
              "  <tbody>\n",
              "    <tr>\n",
              "      <th>69714</th>\n",
              "      <td>For the last 2 weeks this object has been coni...</td>\n",
              "      <td>2020-03-18 22:00:00</td>\n",
              "      <td>http://www.nuforc.org/webreports/154/S154280.html</td>\n",
              "      <td>Vancouver</td>\n",
              "      <td>WA</td>\n",
              "      <td>Unknown</td>\n",
              "      <td>2020</td>\n",
              "      <td>3.0</td>\n",
              "      <td>18.0</td>\n",
              "      <td>Wednesday</td>\n",
              "      <td>22.0</td>\n",
              "    </tr>\n",
              "    <tr>\n",
              "      <th>69715</th>\n",
              "      <td>My sister and I were at the edge of town takin...</td>\n",
              "      <td>2020-03-18 21:00:00</td>\n",
              "      <td>http://www.nuforc.org/webreports/154/S154288.html</td>\n",
              "      <td>Cochrane (Canada)</td>\n",
              "      <td>ON</td>\n",
              "      <td>Formation</td>\n",
              "      <td>2020</td>\n",
              "      <td>3.0</td>\n",
              "      <td>18.0</td>\n",
              "      <td>Wednesday</td>\n",
              "      <td>21.0</td>\n",
              "    </tr>\n",
              "    <tr>\n",
              "      <th>69716</th>\n",
              "      <td>Bright orange lights above Clearlake, CA I wit...</td>\n",
              "      <td>2020-03-18 20:04:00</td>\n",
              "      <td>http://www.nuforc.org/webreports/154/S154283.html</td>\n",
              "      <td>Clearlake</td>\n",
              "      <td>CA</td>\n",
              "      <td>Fireball</td>\n",
              "      <td>2020</td>\n",
              "      <td>3.0</td>\n",
              "      <td>18.0</td>\n",
              "      <td>Wednesday</td>\n",
              "      <td>20.0</td>\n",
              "    </tr>\n",
              "    <tr>\n",
              "      <th>69717</th>\n",
              "      <td>Steady bright object at sunset in western sky ...</td>\n",
              "      <td>2020-06-11 19:02:00</td>\n",
              "      <td>http://www.nuforc.org/webreports/156/S156997.html</td>\n",
              "      <td>Bartlett</td>\n",
              "      <td>IL</td>\n",
              "      <td>Light</td>\n",
              "      <td>2020</td>\n",
              "      <td>6.0</td>\n",
              "      <td>11.0</td>\n",
              "      <td>Thursday</td>\n",
              "      <td>19.0</td>\n",
              "    </tr>\n",
              "    <tr>\n",
              "      <th>69718</th>\n",
              "      <td>The background is a blue sky.  The shape of th...</td>\n",
              "      <td>2020-08-05 10:15:00</td>\n",
              "      <td>http://www.nuforc.org/webreports/158/S158217.html</td>\n",
              "      <td>Ty Ty</td>\n",
              "      <td>GA</td>\n",
              "      <td>Unknown</td>\n",
              "      <td>2020</td>\n",
              "      <td>8.0</td>\n",
              "      <td>5.0</td>\n",
              "      <td>Wednesday</td>\n",
              "      <td>10.0</td>\n",
              "    </tr>\n",
              "  </tbody>\n",
              "</table>\n",
              "</div>"
            ],
            "text/plain": [
              "                                                    text  ...  hour\n",
              "69714  For the last 2 weeks this object has been coni...  ...  22.0\n",
              "69715  My sister and I were at the edge of town takin...  ...  21.0\n",
              "69716  Bright orange lights above Clearlake, CA I wit...  ...  20.0\n",
              "69717  Steady bright object at sunset in western sky ...  ...  19.0\n",
              "69718  The background is a blue sky.  The shape of th...  ...  10.0\n",
              "\n",
              "[5 rows x 11 columns]"
            ]
          },
          "metadata": {
            "tags": []
          },
          "execution_count": 23
        }
      ]
    },
    {
      "cell_type": "code",
      "metadata": {
        "id": "rI-CZq_xbIQd",
        "colab": {
          "base_uri": "https://localhost:8080/",
          "height": 427
        },
        "outputId": "0f6e3889-1022-4962-9194-308f726ed3a1"
      },
      "source": [
        "year_data = df['year'].value_counts()\n",
        "year_index = year_data.index\n",
        "year_value = year_data.values\n",
        "plt.figure(figsize=(24,6))\n",
        "plt.xticks(rotation = 45)\n",
        "plt.title(\"UFO Sightings since 1947\", fontsize=18)\n",
        "plt.xlabel(\"Year\", fontsize=14)\n",
        "plt.ylabel(\"Number of reports\", fontsize=14)\n",
        "year_plot = sns.barplot(x=year_index[:70], y=year_value[:70])"
      ],
      "execution_count": null,
      "outputs": [
        {
          "output_type": "display_data",
          "data": {
            "image/png": "[encoded data removed]",
            "text/plain": [
              "<Figure size 1728x432 with 1 Axes>"
            ]
          },
          "metadata": {
            "tags": [],
            "needs_background": "light"
          }
        }
      ]
    },
    {
      "cell_type": "markdown",
      "metadata": {
        "id": "JC0zlRXl9Gm8"
      },
      "source": [
        "## UFO shapes"
      ]
    },
    {
      "cell_type": "code",
      "metadata": {
        "id": "7yOZuX4o9P6L"
      },
      "source": [
        "#Consolidate Shape values\n",
        "\n",
        "df['shape'] = df['shape'].replace('Triangular', 'Triangle')\n",
        "df['shape'] = df['shape'].replace('TRIANGULAR', 'Triangle')\n",
        "\n",
        "df['shape'] = df['shape'].replace('Circle', 'Disk')\n",
        "df['shape'] = df['shape'].replace('Round', 'Disk')\n",
        "\n",
        "df['shape'] = df['shape'].replace('Changed', 'Changing')\n",
        "df['shape'] = df['shape'].replace('Other', 'Unknown')"
      ],
      "execution_count": null,
      "outputs": []
    },
    {
      "cell_type": "code",
      "metadata": {
        "id": "lSV_-TeY_EHj",
        "colab": {
          "base_uri": "https://localhost:8080/",
          "height": 646
        },
        "outputId": "bf5eeef3-807d-462d-9d34-08126bc416e9"
      },
      "source": [
        "plt.figure(figsize=(10, 10))\n",
        "\n",
        "sns.set(style=\"darkgrid\")\n",
        "sns.countplot(y='shape',data=df , order= df['shape'].value_counts().index)\n",
        "\n",
        "plt.xticks(\n",
        "    rotation=45, \n",
        "    horizontalalignment='right',\n",
        "    fontweight='light',\n",
        "    fontsize='small'  \n",
        ")\n",
        "\n",
        "plt.xticks(\n",
        "    rotation=45,\n",
        "    horizontalalignment='right',\n",
        "    fontweight='light',\n",
        "    fontsize='small'  \n",
        ")\n",
        "\n",
        "plt.yticks(\n",
        "    rotation=45,\n",
        "    horizontalalignment='right',\n",
        "    fontweight='light',\n",
        "    fontsize='small'  \n",
        ")\n",
        "\n",
        "plt.title('Number of UFO Sighting Shapes')\n",
        "\n",
        "plt.show()"
      ],
      "execution_count": null,
      "outputs": [
        {
          "output_type": "display_data",
          "data": {
            "image/png": "[encoded data removed]",
            "text/plain": [
              "<Figure size 720x720 with 1 Axes>"
            ]
          },
          "metadata": {
            "tags": [],
            "needs_background": "light"
          }
        }
      ]
    },
    {
      "cell_type": "markdown",
      "metadata": {
        "id": "2t-uZL4ZDFXN"
      },
      "source": [
        "## Months and timing"
      ]
    },
    {
      "cell_type": "code",
      "metadata": {
        "id": "ulszKgDy_iI4",
        "colab": {
          "base_uri": "https://localhost:8080/",
          "height": 523
        },
        "outputId": "c5d1bc13-0b6f-4648-8fbc-38327714f1d3"
      },
      "source": [
        "order = [\"January\", \"February\", \"March\", \"April\", \"May\", \"June\", \"July\",\"August\", \"September\", \n",
        "         \"October\", \"November\", \"December\"]\n",
        "df['month'] = df['date_time'].dt.month_name() #turns month numbers into month names\n",
        "month_data = df['month'].value_counts() \n",
        "month_index = month_data.index \n",
        "month_values = month_data.values\n",
        "plt.figure(figsize=(15,8))\n",
        "plt.title('UFO Sightings by Month', fontsize=18)\n",
        "plt.xlabel(\"Month\",fontsize=14)\n",
        "plt.ylabel(\"Number of reports\", fontsize=14)\n",
        "month_plot = sns.barplot(x=month_index[:60],y=month_values[:60], palette = \"Greens\", order=order)"
      ],
      "execution_count": null,
      "outputs": [
        {
          "output_type": "display_data",
          "data": {
            "image/png": "[encoded data removed]",
            "text/plain": [
              "<Figure size 1080x576 with 1 Axes>"
            ]
          },
          "metadata": {
            "tags": []
          }
        }
      ]
    },
    {
      "cell_type": "code",
      "metadata": {
        "id": "valLs6BlB0Ax",
        "colab": {
          "base_uri": "https://localhost:8080/",
          "height": 523
        },
        "outputId": "9ba0428c-c735-4fe1-9bc6-52e3ca5a7d8a"
      },
      "source": [
        "day_data = df['day'].value_counts() \n",
        "day_index = day_data.index \n",
        "day_values =day_data.values\n",
        "plt.figure(figsize=(15,8))\n",
        "plt.title('UFO Sightings by Day', fontsize=18)\n",
        "plt.xlabel(\"Day of the Month\", fontsize=14)\n",
        "plt.ylabel(\"Number of reports\", fontsize=14)\n",
        "day_plot = sns.barplot(x=day_index[:60],y=day_values[:60], palette = \"Greens\")"
      ],
      "execution_count": null,
      "outputs": [
        {
          "output_type": "display_data",
          "data": {
            "image/png": "[encoded data removed]",
            "text/plain": [
              "<Figure size 1080x576 with 1 Axes>"
            ]
          },
          "metadata": {
            "tags": []
          }
        }
      ]
    },
    {
      "cell_type": "code",
      "metadata": {
        "id": "nWqQrmPhDys1",
        "colab": {
          "base_uri": "https://localhost:8080/",
          "height": 523
        },
        "outputId": "d9b2a237-3e76-4580-de3f-58dad3a256c2"
      },
      "source": [
        "order = [\"Sunday\", \"Monday\", \"Tuesday\", \"Wednesday\", \"Thursday\", \"Friday\", \"Saturday\"]\n",
        "weekday_data = df['weekday'].value_counts()\n",
        "weekday_index = weekday_data.index \n",
        "weekday_values = weekday_data.values\n",
        "plt.figure(figsize=(15,8))\n",
        "plt.title('UFO Sightings by Day of the Week', fontsize=18)\n",
        "plt.xlabel(\"Day of the week\", fontsize=14)\n",
        "plt.ylabel(\"Number of reports\", fontsize=14)\n",
        "sns.set_palette(\"pastel\")\n",
        "weekday_plot = sns.barplot(x=weekday_index[:60],y=weekday_values[:60], order = order)"
      ],
      "execution_count": null,
      "outputs": [
        {
          "output_type": "display_data",
          "data": {
            "image/png": "[encoded data removed]",
            "text/plain": [
              "<Figure size 1080x576 with 1 Axes>"
            ]
          },
          "metadata": {
            "tags": []
          }
        }
      ]
    },
    {
      "cell_type": "code",
      "metadata": {
        "id": "spMY5iY4FjHo",
        "colab": {
          "base_uri": "https://localhost:8080/",
          "height": 523
        },
        "outputId": "5e07d318-b0d4-4895-a31c-fd0f209b8837"
      },
      "source": [
        "hour_data = df['hour'].value_counts() \n",
        "hour_index = hour_data.index \n",
        "hour_values =hour_data.values\n",
        "plt.figure(figsize=(15,8))\n",
        "plt.title('UFO Sightings by Hour', fontsize=18)\n",
        "plt.xlabel(\"Time\", fontsize=14)\n",
        "plt.ylabel(\"Number of reports\", fontsize=14)\n",
        "hour_plot = sns.barplot(x=hour_index[:60],y=hour_values[:60], palette = 'Purples')"
      ],
      "execution_count": null,
      "outputs": [
        {
          "output_type": "display_data",
          "data": {
            "image/png": "[encoded data removed]",
            "text/plain": [
              "<Figure size 1080x576 with 1 Axes>"
            ]
          },
          "metadata": {
            "tags": []
          }
        }
      ]
    },
    {
      "cell_type": "markdown",
      "metadata": {
        "id": "9LN4nft1GQU0"
      },
      "source": [
        "##Reports"
      ]
    },
    {
      "cell_type": "code",
      "metadata": {
        "id": "e0WMOvmhpBB4"
      },
      "source": [
        "import pandas as pd\n",
        "import numpy as np\n",
        "import matplotlib.pyplot as plt"
      ],
      "execution_count": 1,
      "outputs": []
    },
    {
      "cell_type": "code",
      "metadata": {
        "id": "nSKlEjVto96m"
      },
      "source": [
        "#read in csv again\n",
        "#reducing number of features and keeping more of the text for training data\n",
        "\n",
        "df_text=pd.read_csv('ufo_update.csv')"
      ],
      "execution_count": null,
      "outputs": []
    },
    {
      "cell_type": "code",
      "metadata": {
        "id": "OE3k_ca-lzF1"
      },
      "source": [
        "df_text.head()"
      ],
      "execution_count": null,
      "outputs": []
    },
    {
      "cell_type": "code",
      "metadata": {
        "id": "jWdpI9nNpXzw"
      },
      "source": [
        "text = pd.DataFrame(data=df_text['text'])"
      ],
      "execution_count": null,
      "outputs": []
    },
    {
      "cell_type": "code",
      "metadata": {
        "id": "BZfirRjap9C4"
      },
      "source": [
        "#57 null values in text\n",
        "text.isna().sum()"
      ],
      "execution_count": null,
      "outputs": []
    },
    {
      "cell_type": "code",
      "metadata": {
        "id": "nLu4w4tYqFai"
      },
      "source": [
        "text = text.dropna()"
      ],
      "execution_count": null,
      "outputs": []
    },
    {
      "cell_type": "code",
      "metadata": {
        "id": "TT8xRzYofcQN"
      },
      "source": [
        "text['length'] = text['text'].apply(len)"
      ],
      "execution_count": null,
      "outputs": []
    },
    {
      "cell_type": "code",
      "metadata": {
        "id": "np9x2BWYko6W"
      },
      "source": [
        "text.head()"
      ],
      "execution_count": null,
      "outputs": []
    },
    {
      "cell_type": "code",
      "metadata": {
        "id": "h302Y8Q0mVIW"
      },
      "source": [
        "text.length.describe()"
      ],
      "execution_count": null,
      "outputs": []
    },
    {
      "cell_type": "code",
      "metadata": {
        "id": "7WB2C2Jj__dU"
      },
      "source": [
        "#sample the dataset, too large for colabpi\n",
        "\n",
        "text_sub = text.sample(frac=.25)"
      ],
      "execution_count": null,
      "outputs": []
    },
    {
      "cell_type": "code",
      "metadata": {
        "id": "emNun5XeAtsK"
      },
      "source": [
        "text_sub.head()"
      ],
      "execution_count": null,
      "outputs": []
    },
    {
      "cell_type": "code",
      "metadata": {
        "id": "MwoWcy8ywdnc"
      },
      "source": [
        "#!python3 -m spacy download en_core_web_lg"
      ],
      "execution_count": null,
      "outputs": []
    },
    {
      "cell_type": "code",
      "metadata": {
        "id": "oNi1gVFKpSjs"
      },
      "source": [
        "#!pip install en_core_web_lg"
      ],
      "execution_count": null,
      "outputs": []
    },
    {
      "cell_type": "code",
      "metadata": {
        "id": "cfSEDVEJovfQ"
      },
      "source": [
        "#!pip install <model_s3_url>\n",
        "#!pip install en_core_web_lg"
      ],
      "execution_count": null,
      "outputs": []
    },
    {
      "cell_type": "code",
      "metadata": {
        "id": "L5i23D1C1YO0"
      },
      "source": [
        "#import spacy\n",
        "#from spacy.tokenizer import Tokenizer\n",
        "#import en_core_web_lg"
      ],
      "execution_count": null,
      "outputs": []
    },
    {
      "cell_type": "code",
      "metadata": {
        "id": "-imRNMhQ1iec"
      },
      "source": [
        "#dude, finally. I'm not actually using this but I need to save it somewhere\n",
        "\n",
        "#nlp = en_core_web_lg.load()  "
      ],
      "execution_count": null,
      "outputs": []
    },
    {
      "cell_type": "code",
      "metadata": {
        "id": "K5-AXG_b1b6n"
      },
      "source": [
        "#tokenizer = Tokenizer(nlp.vocab)"
      ],
      "execution_count": null,
      "outputs": []
    },
    {
      "cell_type": "code",
      "metadata": {
        "id": "g9VBl0Zv4UE9"
      },
      "source": [
        "#tokens = []\n",
        "\n",
        "#make tokens\n",
        "\"\"\"\n",
        "for doc in tokenizer.pipe(df['text'], batch_size=500):\n",
        "  doc_tokens = [token.text for token in doc]\n",
        "  tokens.append(doc_tokens)\n",
        "\"\"\""
      ],
      "execution_count": null,
      "outputs": []
    },
    {
      "cell_type": "code",
      "metadata": {
        "id": "SI97R_MB4_MQ"
      },
      "source": [
        "#print(tokens[100])"
      ],
      "execution_count": null,
      "outputs": []
    },
    {
      "cell_type": "code",
      "metadata": {
        "id": "ZEHaGdbR5UWV"
      },
      "source": [
        "#In this case, I'm removing unusual characters instead of stop words\n",
        "#this isn't working lmao\n",
        "\n",
        "#STOPS = ['\\t', '\\x9d','\\xa0','¥','©','«','\\xad','®','°','±', '²','º','»','™']"
      ],
      "execution_count": null,
      "outputs": []
    },
    {
      "cell_type": "code",
      "metadata": {
        "id": "phTX40OD6Hyj"
      },
      "source": [
        "#update tokens without stops\n",
        "\"\"\"\n",
        "for doc in tokenizer.pipe(df['text'], batch_size=500):\n",
        "  doc_tokens = [token.text for token in doc]\n",
        "\n",
        "  for token in doc:\n",
        "    if token.is_alpha not in STOPS:\n",
        "      doc_tokens.append(token)\n",
        "\n",
        "  tokens.append(doc_tokens)\n",
        "  \"\"\""
      ],
      "execution_count": null,
      "outputs": []
    },
    {
      "cell_type": "code",
      "metadata": {
        "id": "EhgzdanXCMFr"
      },
      "source": [
        "# Okay lets try this again w/out cleaning\n",
        "#using sample\n",
        "\n",
        "data = ' '.join(text_sub['text'].tolist())"
      ],
      "execution_count": null,
      "outputs": []
    },
    {
      "cell_type": "code",
      "metadata": {
        "id": "ElPCvGWwBf9i"
      },
      "source": [
        "\"\"\"\n",
        "import re\n",
        "from bs4 import BeautifulSoup\n",
        "\n",
        "def cleanText(txt):\n",
        "    txt = BeautifulSoup(txt).get_text()\n",
        "    txt = txt.replace('\\t', '')\n",
        "    txt = txt.replace('\\x9d', '')\n",
        "    txt = txt.replace('\\xa0', '')\n",
        "    #remove all non letters from text\n",
        "    #txt = re.sub(\"[^a-zA-Z]\", \" \", txt)\n",
        "    txt = re.sub(\"[^A-Za-z0-9_.,!'/$]\", \" \", txt) \n",
        "    #lowercase, split words\n",
        "    #txt = txt.lower().split()\n",
        "    txt = txt.split()\n",
        "    txt = \" \".join(txt)\n",
        "\n",
        "    return txt\n",
        "\"\"\""
      ],
      "execution_count": null,
      "outputs": []
    },
    {
      "cell_type": "code",
      "metadata": {
        "id": "yWwQZt7Emx0i"
      },
      "source": [
        "#clean text, add word count coloumn\n",
        "#what if I just don't clean the text?\n",
        "\"\"\"\n",
        "df['clean'] = df['text'].apply(cleanText)\n",
        "df['length_clean'] = df['clean'].apply(len)\n",
        "df.head()\n",
        "\"\"\"\n"
      ],
      "execution_count": null,
      "outputs": []
    },
    {
      "cell_type": "code",
      "metadata": {
        "id": "lk0cREdlpo-P"
      },
      "source": [
        "#more imports\n",
        "from tensorflow.keras.callbacks import LambdaCallback\n",
        "from tensorflow.keras.preprocessing import sequence\n",
        "from tensorflow.keras.models import Sequential\n",
        "from tensorflow.keras.layers import Dense, Embedding\n",
        "from tensorflow.keras.layers import LSTM\n",
        "from tensorflow.keras.optimizers import RMSprop\n",
        "\n",
        "import numpy as np\n",
        "import random\n",
        "import sys\n",
        "import os\n",
        "\n",
        "import pandas as pd\n",
        "\n",
        "import tensorflow as tf\n",
        "import tensorflow_datasets as tfds"
      ],
      "execution_count": null,
      "outputs": []
    },
    {
      "cell_type": "code",
      "metadata": {
        "id": "-yq-sAJzp2JO"
      },
      "source": [
        "print('Length of text: {} characters'.format(len(data)))"
      ],
      "execution_count": null,
      "outputs": []
    },
    {
      "cell_type": "code",
      "metadata": {
        "id": "ajq1VFWgrbXW"
      },
      "source": [
        "#encode as unique characters\n",
        "\n",
        "chars = sorted(list(set(data)))\n",
        "\n",
        "#lookup tables\n",
        "chars_indices = {c:i for i, c in enumerate(chars)}\n",
        "indices_char = {i:c for i, c in enumerate(chars)}"
      ],
      "execution_count": null,
      "outputs": []
    },
    {
      "cell_type": "code",
      "metadata": {
        "id": "EuTviFaQsPx-"
      },
      "source": [
        "len(chars) #haven't figured out how to get spacy to remove some of these symbols"
      ],
      "execution_count": null,
      "outputs": []
    },
    {
      "cell_type": "code",
      "metadata": {
        "id": "lFciHI-tsRFW"
      },
      "source": [
        "chars"
      ],
      "execution_count": null,
      "outputs": []
    },
    {
      "cell_type": "code",
      "metadata": {
        "id": "EB7ySsgIsSYj"
      },
      "source": [
        "# Create the sequence data\n",
        "\n",
        "maxlen = 40\n",
        "step = 5\n",
        "\n",
        "#encoded = [char_int[c] for c in data]\n",
        "encoded = [chars_indices[c] for c in data]\n",
        "\n",
        "sequences = [] # Each element is 40 chars long\n",
        "next_char = [] # One element for each sequence\n",
        "\n",
        "for i in range(0, len(encoded) - maxlen, step):\n",
        "    \n",
        "    sequences.append(encoded[i : i + maxlen])\n",
        "    next_char.append(encoded[i + maxlen])\n",
        "    \n",
        "print('sequences: ', len(sequences))"
      ],
      "execution_count": null,
      "outputs": []
    },
    {
      "cell_type": "code",
      "metadata": {
        "id": "SHTgzgJQthLj"
      },
      "source": [
        "df = pd.read_csv('ufo_update.csv')\n",
        "text_ = \" \"\n",
        "\n",
        "for i in df['text']:\n",
        "  text_ += i\n",
        "\n",
        "text_ = text_.split(\" \")\n",
        "\n",
        "text = []\n",
        "for i in text_:\n",
        "  text.append(i+\" \")\n",
        "\n",
        "chars = sorted(list(set(text)))\n",
        "chars_int = dict((c, i) for i, c in enumerate(chars))\n",
        "int_char = dict((i, c) for i, c in enumerate(chars))\n",
        "\n",
        "maxlen = 40\n",
        "step = 5\n",
        "\n",
        "sequences = [] # Each element is 40 chars long\n",
        "next_char = [] # One element for each sequence\n",
        "\n",
        "for i in range(0, len(text) - maxlen, step):\n",
        "    \n",
        "    sentences.append(text[i : i + maxlen])\n",
        "    next_char.append(text[i + maxlen])\n",
        "    \n",
        "print('sequences: ', len(sequences))"
      ],
      "execution_count": null,
      "outputs": []
    },
    {
      "cell_type": "code",
      "metadata": {
        "id": "Bo7eMhFNthr_"
      },
      "source": [
        ""
      ],
      "execution_count": null,
      "outputs": []
    },
    {
      "cell_type": "code",
      "metadata": {
        "id": "-rSSGLx0L_xH"
      },
      "source": [
        "#need to limit the # of sequences to keep colab from crashing\n",
        "#wait, is this the problem? because its randomized?\n",
        "\n",
        "#import random\n",
        "\n",
        "#subseq = random.sample(sequences, 2000000)"
      ],
      "execution_count": null,
      "outputs": []
    },
    {
      "cell_type": "code",
      "metadata": {
        "id": "Y4pqbldAI2xj"
      },
      "source": [
        "sequences[0]"
      ],
      "execution_count": null,
      "outputs": []
    },
    {
      "cell_type": "code",
      "metadata": {
        "id": "Ly3PkpAGI6IR"
      },
      "source": [
        "# Create x & y\n",
        "\n",
        "x = np.zeros((len(sequences), maxlen, len(chars)), dtype=np.bool)\n",
        "y = np.zeros((len(sequences),len(chars)), dtype=np.bool)\n",
        "\n",
        "for i, sequences in enumerate(sequences):\n",
        "    for t, char in enumerate(sequences):\n",
        "        x[i,t,char] = 1\n",
        "        \n",
        "    y[i, next_char[i]] = 1\n",
        "\n",
        "print(x.shape)\n",
        "print(y.shape)"
      ],
      "execution_count": null,
      "outputs": []
    },
    {
      "cell_type": "code",
      "metadata": {
        "id": "VQNHpBJMbwhG"
      },
      "source": [
        "x[0][0]"
      ],
      "execution_count": null,
      "outputs": []
    },
    {
      "cell_type": "code",
      "metadata": {
        "id": "52--w-9gJDCT"
      },
      "source": [
        "# build the model: a single LSTM\n",
        "from tensorflow.keras.layers import Bidirectional\n",
        "\n",
        "model = Sequential()\n",
        "model.add(LSTM(128, input_shape=(maxlen, len(chars))))\n",
        "#model.add(LSTM(128))\n",
        "#model.add(Bidirectional(LSTM(128, input_shape=(maxlen, len(chars)))))\n",
        "\n",
        "model.add(Dense(len(chars), activation='softmax'))\n",
        "\n",
        "model.compile(loss='categorical_crossentropy', optimizer='nadam', metrics=['accuracy'])"
      ],
      "execution_count": null,
      "outputs": []
    },
    {
      "cell_type": "code",
      "metadata": {
        "id": "yszz1nlgJJgH"
      },
      "source": [
        "def sample(preds, temperature=1.0):\n",
        "    # helper function to sample an index from a probability array\n",
        "    preds = np.asarray(preds).astype('float64')\n",
        "    preds = np.log(preds) / temperature\n",
        "    exp_preds = np.exp(preds)\n",
        "    preds = exp_preds / np.sum(exp_preds)\n",
        "    probas = np.random.multinomial(1, preds, 1)\n",
        "    return np.argmax(probas)"
      ],
      "execution_count": null,
      "outputs": []
    },
    {
      "cell_type": "code",
      "metadata": {
        "id": "EWfBDFXkcAh-"
      },
      "source": [
        "def on_epoch_end(epoch, _):\n",
        "    # Function invoked at end of each epoch. Prints generated text.\n",
        "    print()\n",
        "    print('----- Generating text after Epoch: %d' % epoch)\n",
        "\n",
        "    start_index = random.randint(0, len(text) - maxlen - 1)\n",
        "    for diversity in [0.2, 0.5, 1.0, 1.2]:\n",
        "        print('----- diversity:', diversity)\n",
        "\n",
        "        generated = ''\n",
        "        sentence = text[start_index: start_index + maxlen]\n",
        "        generated += sentence\n",
        "        print('----- Generating with seed: \"' + sentence + '\"')\n",
        "        sys.stdout.write(generated)\n",
        "\n",
        "        for i in range(400):\n",
        "            x_pred = np.zeros((1, maxlen, len(chars)))\n",
        "            for t, char in enumerate(sentence):\n",
        "                x_pred[0, t, chars_indices[char]] = 1.\n",
        "\n",
        "            preds = model.predict(x_pred, verbose=0)[0]\n",
        "            next_index = sample(preds, diversity)\n",
        "            next_char = indices_char[next_index]\n",
        "\n",
        "            sentence = sentence[1:] + next_char\n",
        "\n",
        "            sys.stdout.write(next_char)\n",
        "            sys.stdout.flush()\n",
        "        print()\n",
        "\n",
        "print_callback = LambdaCallback(on_epoch_end=on_epoch_end)"
      ],
      "execution_count": null,
      "outputs": []
    },
    {
      "cell_type": "code",
      "metadata": {
        "id": "qg_CzkJecHps"
      },
      "source": [
        "model.fit(x, y,\n",
        "          batch_size=128,\n",
        "          epochs=15,\n",
        "          callbacks=[print_callback])"
      ],
      "execution_count": null,
      "outputs": []
    }
  ]
}